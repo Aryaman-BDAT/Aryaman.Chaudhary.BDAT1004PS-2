{
 "cells": [
  {
   "cell_type": "markdown",
   "metadata": {},
   "source": [
    "#Problem Set #2"
   ]
  },
  {
   "cell_type": "markdown",
   "metadata": {},
   "source": [
    "#Question 1\n",
    "<h5>Value of a</h5>"
   ]
  },
  {
   "cell_type": "code",
   "execution_count": 1,
   "metadata": {},
   "outputs": [
    {
     "data": {
      "text/plain": [
       "6"
      ]
     },
     "execution_count": 1,
     "metadata": {},
     "output_type": "execute_result"
    }
   ],
   "source": [
    "a = 0\n",
    "def b():\n",
    "    global a\n",
    "    a = c(a)\n",
    "    \n",
    "def c(a):\n",
    "    return a + 2 \n",
    "\n",
    "b()\n",
    "b()\n",
    "b()\n",
    "a\n",
    "\n",
    "#Here the value of a is increased eveytime c() is called, and c() is called everytime b() is called. hence we called b() 3 times which gives 3X2 which is 6 so Value of a will be 6"
   ]
  },
  {
   "cell_type": "markdown",
   "metadata": {},
   "source": [
    "#Question 2\n",
    "<h5>File Length</h5>"
   ]
  },
  {
   "cell_type": "code",
   "execution_count": 2,
   "metadata": {},
   "outputs": [
    {
     "name": "stdout",
     "output_type": "stream",
     "text": [
      "File idterm.py not found.\n"
     ]
    }
   ],
   "source": [
    "def file_length(file_name):\n",
    "    try:\n",
    "        #Try to read File which was asked\n",
    "        file = open(file_name)\n",
    "        contents = file.read()\n",
    "        file.close()\n",
    "        print(len(contents))#printing desired output if file is found\n",
    "    except:\n",
    "        print(\"File \" + file_name + \" not found.\")#Returning a string if file isnt found\n",
    "    \n",
    "file_length(\"idterm.py\")#file name being parsed"
   ]
  },
  {
   "cell_type": "markdown",
   "metadata": {},
   "source": [
    "#Question 3\n",
    "<h5>Class</h5>"
   ]
  },
  {
   "cell_type": "code",
   "execution_count": 3,
   "metadata": {},
   "outputs": [
    {
     "name": "stdout",
     "output_type": "stream",
     "text": [
      "I am a Kangaroo located at coordinates (0,0)\n",
      "['doll', 'firetruck', 'kitten']\n",
      "I am a Kangaroo located at coordinates (3,0)\n"
     ]
    }
   ],
   "source": [
    "class Marsupial:#defined class Marsupial\n",
    "    l = []\n",
    "    def __init__(self, x, y):\n",
    "        self.x = x\n",
    "        self.y = y\n",
    "    \n",
    "    def put_in_pouch(self, s):\n",
    "        self.l.append(s)\n",
    "        \n",
    "    def pouch_contents(self):\n",
    "        print(self.l)\n",
    "        \n",
    "class Kangaroo(Marsupial):#creating subcalss of Marsupial\n",
    "    def jump(self, dx, dy):\n",
    "        self.x += dx\n",
    "        self.y += dy\n",
    "        \n",
    "    def __str__(self):#overloading __str__() for desired output\n",
    "        return \"I am a Kangaroo located at coordinates ({},{})\".format(self.x, self.y)\n",
    "    \n",
    "    \n",
    "    \n",
    "k = Kangaroo(0,0)\n",
    "print(k)\n",
    "k.put_in_pouch('doll')\n",
    "k.put_in_pouch('firetruck')\n",
    "k.put_in_pouch('kitten')\n",
    "k.pouch_contents()\n",
    "k.jump(1,0)\n",
    "k.jump(1,0)\n",
    "k.jump(1,0)\n",
    "print(k)"
   ]
  },
  {
   "cell_type": "markdown",
   "metadata": {},
   "source": [
    "#Question 4\n",
    "<h5>Collatz</h5>"
   ]
  },
  {
   "cell_type": "code",
   "execution_count": 4,
   "metadata": {},
   "outputs": [
    {
     "name": "stdout",
     "output_type": "stream",
     "text": [
      "Enter a number : 20\n",
      "20\n",
      "10\n",
      "5\n",
      "16\n",
      "8\n",
      "4\n",
      "2\n",
      "1\n"
     ]
    }
   ],
   "source": [
    "def collatz(x):#defining recursive function collatz\n",
    "    print(x)\n",
    "    while x != 1:\n",
    "        if (x & 1): # Fancy way of asking if the number is odd (Lil-bit faster than x%2 == 1)\n",
    "            x = 3 * x + 1\n",
    "        else:\n",
    "            x = x // 2\n",
    "        print(x)\n",
    "\n",
    "n = int(input(\"Enter a number : \"))\n",
    "collatz(n)#calling function collatz"
   ]
  },
  {
   "cell_type": "markdown",
   "metadata": {},
   "source": [
    "#Question 5\n",
    "<h5>Binary Representation</h5>"
   ]
  },
  {
   "cell_type": "code",
   "execution_count": 10,
   "metadata": {},
   "outputs": [
    {
     "name": "stdout",
     "output_type": "stream",
     "text": [
      "Enter a number : 6\n",
      "110\n"
     ]
    }
   ],
   "source": [
    "l = []\n",
    "def Binary_helper(n):#function to return binary values\n",
    "    if (n == 0):\n",
    "        return\n",
    "    l.append(str(n % 2))\n",
    "    Binary_helper(n//2)\n",
    "\n",
    "def Binary(n):#function to collect values and then print them\n",
    "    Binary_helper(n)\n",
    "    s = ''.join(map(str, l[::-1]))\n",
    "    print(s)\n",
    "\n",
    "n = int(input(\"Enter a number : \"))\n",
    "Binary(n)"
   ]
  },
  {
   "cell_type": "markdown",
   "metadata": {},
   "source": [
    "#Question 6\n",
    "<h5>HTML Parser</h5>"
   ]
  },
  {
   "cell_type": "code",
   "execution_count": 11,
   "metadata": {},
   "outputs": [
    {
     "name": "stdout",
     "output_type": "stream",
     "text": [
      "Parse me! (h1)\n",
      "    TEST\n",
      "    TEST EZ\n",
      "TEST 3\n",
      "    TEST 4\n",
      "        TEST 5\n"
     ]
    }
   ],
   "source": [
    "from html.parser import HTMLParser\n",
    "\n",
    "class HeadingParser(HTMLParser):\n",
    "    (h1,h2,h3,h4,h5,h6) = (False, False,False,False,False,False)\n",
    "    \n",
    "    def handle_starttag(self, tag, attrs):\n",
    "        if tag == 'h1':\n",
    "            self.h1 = True\n",
    "        if tag == 'h2':\n",
    "            self.h2 = True\n",
    "        if tag == 'h3':\n",
    "            self.h3 = True\n",
    "        if tag == 'h4':\n",
    "            self.h4 = True\n",
    "        if tag == 'h5':\n",
    "            self.h5 = True\n",
    "        if tag == 'h6':\n",
    "            self.h6 = True\n",
    "            \n",
    "\n",
    "    def handle_endtag(self, tag):\n",
    "        if tag == 'h1':\n",
    "            self.h1 = False\n",
    "        if tag == 'h2':\n",
    "            self.h2 = False\n",
    "        if tag == 'h3':\n",
    "            self.h3 = False\n",
    "        if tag == 'h4':\n",
    "            self.h4 = False\n",
    "        if tag == 'h5':\n",
    "            self.h5 = False\n",
    "        if tag == 'h6':\n",
    "            self.h6 = False\n",
    "            \n",
    "\n",
    "    def handle_data(self, data):\n",
    "        if self.h1:\n",
    "            print(data)\n",
    "        elif self.h2:\n",
    "            print(\"    {}\".format(data))\n",
    "        elif self.h3:\n",
    "            print(\"        {}\".format(data))\n",
    "        elif self.h4:\n",
    "            print(\"            {}\".format(data))\n",
    "        elif self.h5:\n",
    "            print(\"                {}\".format(data))\n",
    "        elif self.h6:\n",
    "            print(\"                    {}\".format(data))\n",
    "        \n",
    "        \n",
    "infile = open('w3c.html')\n",
    "content = infile.read()\n",
    "infile.close()\n",
    "hp = HeadingParser()\n",
    "## FOR TESTING PURPOSES ONLY.. KIDS STAY AWAY ;)\n",
    "# content = '<html><head><title>Test</title></head><body><h1>Parse me! (h1)</h1> <h2>TEST</h2> Body Content</body></html>'\n",
    "hp.feed(content)"
   ]
  },
  {
   "cell_type": "markdown",
   "metadata": {},
   "source": [
    "#Question 7\n",
    "<h5>URL DFS</h5>"
   ]
  },
  {
   "cell_type": "code",
   "execution_count": 12,
   "metadata": {},
   "outputs": [
    {
     "ename": "SyntaxError",
     "evalue": "invalid syntax (<ipython-input-12-75d462829425>, line 67)",
     "output_type": "error",
     "traceback": [
      "\u001b[1;36m  File \u001b[1;32m\"<ipython-input-12-75d462829425>\"\u001b[1;36m, line \u001b[1;32m67\u001b[0m\n\u001b[1;33m    new_url =\u001b[0m\n\u001b[1;37m              ^\u001b[0m\n\u001b[1;31mSyntaxError\u001b[0m\u001b[1;31m:\u001b[0m invalid syntax\n"
     ]
    }
   ],
   "source": [
    "import urllib.request\n",
    "from html.parser import HTMLParser\n",
    "\n",
    "#TODO \n",
    "class HeadingParser(HTMLParser):\n",
    "    (h1,h2) = (False, False)\n",
    "    \n",
    "    def handle_starttag(self, tag, attrs):\n",
    "        if tag == 'h1':\n",
    "            self.h1 = True\n",
    "        if tag == 'h2':\n",
    "            self.h2 = True\n",
    "        if tag == 'h3':\n",
    "            self.h3 = True\n",
    "        if tag == 'h4':\n",
    "            self.h4 = True\n",
    "        if tag == 'h5':\n",
    "            self.h5 = True\n",
    "        if tag == 'h6':\n",
    "            self.h6 = True\n",
    "            \n",
    "\n",
    "    def handle_endtag(self, tag):\n",
    "        if tag == 'h1':\n",
    "            self.h1 = False\n",
    "        if tag == 'h2':\n",
    "            self.h2 = False\n",
    "        if tag == 'h3':\n",
    "            self.h3 = False\n",
    "        if tag == 'h4':\n",
    "            self.h4 = False\n",
    "        if tag == 'h5':\n",
    "            self.h5 = False\n",
    "        if tag == 'h6':\n",
    "            self.h6 = False\n",
    "            \n",
    "\n",
    "    def handle_data(self, data):\n",
    "        if self.h1:\n",
    "            print(data)\n",
    "        elif self.h2:\n",
    "            print(\"    {}\".format(data))\n",
    "        elif self.h3:\n",
    "            print(\"        {}\".format(data))\n",
    "        elif self.h4:\n",
    "            print(\"            {}\".format(data))\n",
    "        elif self.h5:\n",
    "            print(\"                {}\".format(data))\n",
    "        elif self.h6:\n",
    "            print(\"                    {}\".format(data))\n",
    "\n",
    "\n",
    "print(url)\n",
    "def webdir(url, depth, indent):\n",
    "    \n",
    "    if depth == 0:\n",
    "        return\n",
    "    \n",
    "    try: \n",
    "        response = urllib.request.urlopen(url)\n",
    "        html = response.read()\n",
    "\n",
    "    except urllib.error.URLError:\n",
    "        return \n",
    "    \n",
    "    # TODO : PARSE URL(S) FROM HTML\n",
    "    new_url = \n",
    "    print(\"    \"*indent + new_url)\n",
    "    webdir(new_url, depth-1, indent+1)\n",
    "\n",
    "\n",
    "    \n",
    "webdir('http://reed.cs.depaul.edu/lperkovic/csc242/test1.html', 2, 0)"
   ]
  },
  {
   "cell_type": "markdown",
   "metadata": {},
   "source": [
    "#Question 8\n",
    "<h5>SQL</h5>"
   ]
  },
  {
   "cell_type": "markdown",
   "metadata": {},
   "source": [
    "|Desire          | Querry                                                                            |                \n",
    "| :---              |-----------------:                                                                      |          \n",
    "| All the Temperature Data | SELECT Temperature FROM rain     | \n",
    "| All the Cities, but without repetition     | SELECT DISTINCT city FROM rain   |  \n",
    "| All the Records for India |    SELECT * FROM rain WHERE Country = India                      |  \n",
    "| All the Fall Records           | SELECT * FROM rain WHERE Season = Fall     |  \n",
    "|   the City, Country, and season for which the average rainfall is Between 200 and 400 Millimeters.      | SELECT city, country, season FROM rain WHERE rainfall>200 and rainfall<400  |   \n",
    "| The City and Country for which the avrage Fall Temperature is above 20 degrees, in increasing Temperature Order           | SELECT city, country FROM rain WHERE Temperature > 20 ORDER BY Temperature ASC                  |  \n",
    "| Total Annual Rainfall for Cairo           | SELECT SUM(Rainfall) FROM rain WHERE City = Cairo                           |  \n",
    "| Total Rainfall for each season           | SELECT SUM(Rainfall) FROM rain GROUP BY Season                           |  "
   ]
  },
  {
   "cell_type": "markdown",
   "metadata": {},
   "source": [
    "#Question 9\n",
    "<h5>List Expressions</h5>"
   ]
  },
  {
   "cell_type": "code",
   "execution_count": 14,
   "metadata": {},
   "outputs": [
    {
     "name": "stdout",
     "output_type": "stream",
     "text": [
      "['THE', 'QUICK', 'BROWN', 'FOX', 'JUMPS', 'OVER', 'THE', 'LAZY', 'DOG'] \n",
      "\n",
      " ['the', 'quick', 'brown', 'fox', 'jumps', 'over', 'the', 'lazy', 'dog'] \n",
      "\n",
      " [3, 5, 5, 3, 5, 4, 3, 4, 3] \n",
      "\n",
      " [['THE', 'the', 3], ['QUICK', 'quick', 5], ['BROWN', 'brown', 5], ['FOX', 'fox', 3], ['JUMPS', 'jumps', 5], ['OVER', 'over', 4], ['THE', 'the', 3], ['LAZY', 'lazy', 4], ['DOG', 'dog', 3]] \n",
      "\n",
      " ['quick', 'brown', 'jumps', 'over', 'lazy']\n"
     ]
    }
   ],
   "source": [
    "words = ['The', 'quick', 'brown', 'fox', 'jumps', 'over', 'the', 'lazy', 'dog']\n",
    "\n",
    "# syntax --> expression for item in iterable if condition == True\n",
    "\n",
    "upper_words = [i.upper() for i in words]\n",
    "lower_words = [i.lower() for i in words]\n",
    "len_words = [len(i) for i in words]\n",
    "combo_words = [[i.upper(), i.lower(), len(i)] for i in words]\n",
    "len_greater_than_4 = [i for i in words if len(i) >= 4]\n",
    "\n",
    "print(upper_words,\"\\n\\n\", lower_words,\"\\n\\n\", len_words,\"\\n\\n\", combo_words,\"\\n\\n\", len_greater_than_4)"
   ]
  },
  {
   "cell_type": "code",
   "execution_count": null,
   "metadata": {},
   "outputs": [],
   "source": []
  }
 ],
 "metadata": {
  "kernelspec": {
   "display_name": "Python 3",
   "language": "python",
   "name": "python3"
  },
  "language_info": {
   "codemirror_mode": {
    "name": "ipython",
    "version": 3
   },
   "file_extension": ".py",
   "mimetype": "text/x-python",
   "name": "python",
   "nbconvert_exporter": "python",
   "pygments_lexer": "ipython3",
   "version": "3.6.5"
  }
 },
 "nbformat": 4,
 "nbformat_minor": 2
}
